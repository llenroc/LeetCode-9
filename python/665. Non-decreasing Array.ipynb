{
 "cells": [
  {
   "cell_type": "markdown",
   "metadata": {},
   "source": [
    "# 665. Non-decreasing Array\n",
    "\n",
    "Given an array with n integers, your task is to check if it could become non-decreasing by modifying at most 1 element.\n",
    "\n",
    "We define an array is non-decreasing if `array[i] <= array[i + 1]` holds for every `i (1 <= i < n)`.\n",
    "\n",
    "Example 1:\n",
    "\n",
    "```\n",
    "Input: [4,2,3]\n",
    "Output: True\n",
    "Explanation: You could modify the first 4 to 1 to get a non-decreasing array.\n",
    "```\n",
    "\n",
    "Example 2:\n",
    "\n",
    "```\n",
    "Input: [4,2,1]\n",
    "Output: False\n",
    "Explanation: You can't get a non-decreasing array by modify at most one element.\n",
    "```\n",
    "\n",
    "Note: \n",
    "\n",
    "`The n belongs to [1, 10,000].`"
   ]
  },
  {
   "cell_type": "code",
   "execution_count": 1,
   "metadata": {},
   "outputs": [],
   "source": [
    "from typing import List\n",
    "\n",
    "class Solution:\n",
    "    def checkPossibility(self, nums: List[int]) -> bool:\n",
    "        length = len(nums)\n",
    "        nums.append(-1000)\n",
    "        strikes = 0\n",
    "        \n",
    "        for i in range(1, length):\n",
    "            if nums[i-1] > nums[i]:\n",
    "                if nums[i-2] < nums[i] :\n",
    "                    nums[i-1] = nums[i-2]\n",
    "                else:\n",
    "                    nums[i] = nums[i-1] \n",
    "                strikes += 1\n",
    "        \n",
    "        return strikes <= 1"
   ]
  },
  {
   "cell_type": "code",
   "execution_count": 2,
   "metadata": {},
   "outputs": [
    {
     "name": "stderr",
     "output_type": "stream",
     "text": [
      ".\n",
      "----------------------------------------------------------------------\n",
      "Ran 1 test in 0.002s\n",
      "\n",
      "OK\n"
     ]
    }
   ],
   "source": [
    "import unittest\n",
    "\n",
    "class SolutionTests(unittest.TestCase):\n",
    "\n",
    "    def test_checkPossibility(self):\n",
    "        solution = Solution()\n",
    "        self.assertEqual(solution.checkPossibility([4,2,3]), True)\n",
    "        self.assertEqual(solution.checkPossibility([4,2,1]), False)\n",
    "        self.assertEqual(solution.checkPossibility([3,4,2,3]), False)\n",
    "        self.assertEqual(solution.checkPossibility([-1,4,2,3]), True)\n",
    "        self.assertEqual(solution.checkPossibility([2,3,3,2,4]), True)\n",
    "\n",
    "if __name__ == '__main__':\n",
    "    unittest.main(argv=['first-arg-is-ignored'], exit=False)"
   ]
  }
 ],
 "metadata": {
  "file_extension": ".py",
  "kernelspec": {
   "display_name": "Python 3",
   "language": "python",
   "name": "python3"
  },
  "language_info": {
   "codemirror_mode": {
    "name": "ipython",
    "version": 3
   },
   "file_extension": ".py",
   "mimetype": "text/x-python",
   "name": "python",
   "nbconvert_exporter": "python",
   "pygments_lexer": "ipython3",
   "version": "3.6.8"
  },
  "mimetype": "text/x-python",
  "name": "python",
  "npconvert_exporter": "python",
  "pygments_lexer": "ipython3",
  "version": 3
 },
 "nbformat": 4,
 "nbformat_minor": 4
}
