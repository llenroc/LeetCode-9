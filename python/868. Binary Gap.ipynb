{
 "cells": [
  {
   "cell_type": "markdown",
   "metadata": {},
   "source": [
    "# 868. Binary Gap\n",
    "\n",
    "Given a positive integer N, find and return the longest distance between two consecutive 1's in the binary representation of N.\n",
    "\n",
    "If there aren't two consecutive 1's, return 0.\n",
    "\n",
    "Example 1:\n",
    "\n",
    "```\n",
    "Input: 22\n",
    "Output: 2\n",
    "Explanation: \n",
    "22 in binary is 0b10110.\n",
    "In the binary representation of 22, there are three ones, and two consecutive pairs of 1's.\n",
    "The first consecutive pair of 1's have distance 2.\n",
    "The second consecutive pair of 1's have distance 1.\n",
    "The answer is the largest of these two distances, which is 2.\n",
    "```\n",
    "\n",
    "Example 2:\n",
    "\n",
    "```\n",
    "Input: 5\n",
    "Output: 2\n",
    "Explanation: \n",
    "5 in binary is 0b101.\n",
    "```\n",
    "\n",
    "Example 3:\n",
    "\n",
    "```\n",
    "Input: 6\n",
    "Output: 1\n",
    "Explanation: \n",
    "6 in binary is 0b110.\n",
    "```\n",
    "\n",
    "Example 4:\n",
    "\n",
    "```\n",
    "Input: 8\n",
    "Output: 0\n",
    "Explanation: \n",
    "8 in binary is 0b1000.\n",
    "There aren't any consecutive pairs of 1's in the binary representation of 8, so we return 0.\n",
    "```\n",
    "\n",
    "Note:\n",
    "\n",
    "`1 <= N <= 10^9`\n"
   ]
  },
  {
   "cell_type": "code",
   "execution_count": 1,
   "metadata": {},
   "outputs": [],
   "source": [
    "class Solution:\n",
    "    def binaryGap(self, N: int) -> int:\n",
    "        distance = 0\n",
    "        start = 0\n",
    "        count = 0\n",
    "\n",
    "        while N != 0:\n",
    "            count = count + 1\n",
    "            if N&1 == 1:\n",
    "                if start != 0:\n",
    "                    chunk = count - start\n",
    "                    if chunk >= distance:\n",
    "                        distance = chunk \n",
    "                start = count;\n",
    "            N>>=1\n",
    "\n",
    "        return distance"
   ]
  },
  {
   "cell_type": "code",
   "execution_count": 3,
   "metadata": {},
   "outputs": [
    {
     "name": "stderr",
     "output_type": "stream",
     "text": [
      ".\n",
      "----------------------------------------------------------------------\n",
      "Ran 1 test in 0.003s\n",
      "\n",
      "OK\n"
     ]
    }
   ],
   "source": [
    "import unittest\n",
    "\n",
    "class SolutionTests(unittest.TestCase):\n",
    "\n",
    "    def test_binaryGap(self):\n",
    "        solution = Solution()\n",
    "        self.assertEqual(solution.binaryGap(22), 2)\n",
    "        self.assertEqual(solution.binaryGap(5), 2)\n",
    "        self.assertEqual(solution.binaryGap(6), 1)\n",
    "        self.assertEqual(solution.binaryGap(8), 0)\n",
    "        self.assertEqual(solution.binaryGap(15), 1)\n",
    "        self.assertEqual(solution.binaryGap(5049), 3)\n",
    "\n",
    "if __name__ == '__main__':\n",
    "    unittest.main(argv=['first-arg-is-ignored'], exit=False)"
   ]
  }
 ],
 "metadata": {
  "file_extension": ".py",
  "kernelspec": {
   "display_name": "Python 3",
   "language": "python",
   "name": "python3"
  },
  "language_info": {
   "codemirror_mode": {
    "name": "ipython",
    "version": 3
   },
   "file_extension": ".py",
   "mimetype": "text/x-python",
   "name": "python",
   "nbconvert_exporter": "python",
   "pygments_lexer": "ipython3",
   "version": "3.6.8"
  },
  "mimetype": "text/x-python",
  "name": "python",
  "npconvert_exporter": "python",
  "pygments_lexer": "ipython3",
  "version": 3
 },
 "nbformat": 4,
 "nbformat_minor": 4
}
