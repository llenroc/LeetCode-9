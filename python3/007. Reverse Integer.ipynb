{
 "cells": [
  {
   "cell_type": "markdown",
   "metadata": {},
   "source": [
    "# Reverse Integer\n",
    "\n",
    "Given a 32-bit signed integer, reverse digits of an integer.\n",
    "\n",
    "Example 1:\n",
    "\n",
    "    Input: 123\n",
    "    Output: 321\n",
    "\n",
    "Example 2:\n",
    "\n",
    "    Input: -123\n",
    "    Output: -321\n",
    "\n",
    "Example 3:\n",
    "\n",
    "    Input: 120\n",
    "    Output: 21\n",
    "\n",
    "Note:\n",
    "\n",
    "Assume we are dealing with an environment which could only store integers within the 32-bit signed integer range: [−2<sup>31</sup>,  2<sup>31</sup> − 1]. For the purpose of this problem, assume that your function returns 0 when the reversed integer overflows.\n"
   ]
  },
  {
   "cell_type": "code",
   "execution_count": 1,
   "metadata": {},
   "outputs": [],
   "source": [
    "import math\n",
    "\n",
    "class Solution:\n",
    "    def reverse(self, x: int) -> int:\n",
    "        min_value = -math.pow(2, 31)\n",
    "        max_value = -min_value - 1\n",
    "        \n",
    "        sign = 1\n",
    "        result = 0\n",
    "        \n",
    "        if x < 0:\n",
    "            sign = -1\n",
    "            x = -x\n",
    "        \n",
    "        while x != 0:\n",
    "            digit = x % 10\n",
    "            result = result * 10 + digit\n",
    "            \n",
    "            if sign * result > max_value or sign * result < min_value:\n",
    "                return 0\n",
    "            \n",
    "            x = int((x - digit) / 10)\n",
    "        \n",
    "        return sign * result"
   ]
  },
  {
   "cell_type": "code",
   "execution_count": 2,
   "metadata": {},
   "outputs": [
    {
     "name": "stderr",
     "output_type": "stream",
     "text": [
      ".\n",
      "----------------------------------------------------------------------\n",
      "Ran 1 test in 0.002s\n",
      "\n",
      "OK\n"
     ]
    }
   ],
   "source": [
    "import unittest\n",
    "\n",
    "class SolutionTests(unittest.TestCase):\n",
    "\n",
    "    def test_checkPossibility(self):\n",
    "        solution = Solution()\n",
    "        self.assertEqual(solution.reverse(123), 321)\n",
    "        self.assertEqual(solution.reverse(-123), -321)\n",
    "        self.assertEqual(solution.reverse(120), 21)\n",
    "        self.assertEqual(solution.reverse(1534236469), 0)\n",
    "\n",
    "if __name__ == '__main__':\n",
    "    unittest.main(argv=['first-arg-is-ignored'], exit=False)"
   ]
  }
 ],
 "metadata": {
  "kernelspec": {
   "display_name": "Python 3",
   "language": "python",
   "name": "python3"
  },
  "language_info": {
   "codemirror_mode": {
    "name": "ipython",
    "version": 3
   },
   "file_extension": ".py",
   "mimetype": "text/x-python",
   "name": "python",
   "nbconvert_exporter": "python",
   "pygments_lexer": "ipython3",
   "version": "3.7.6"
  }
 },
 "nbformat": 4,
 "nbformat_minor": 4
}
