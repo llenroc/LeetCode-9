{
 "cells": [
  {
   "cell_type": "markdown",
   "metadata": {},
   "source": [
    "# 859. Buddy Strings\n",
    "\n",
    "Given two strings A and B of lowercase letters, return true if and only if we can swap two letters in A so that the result equals B.\n",
    " \n",
    "Example 1:\n",
    "\n",
    "    Input: A = \"ab\", B = \"ba\"\n",
    "    Output: true\n",
    "\n",
    "Example 2:\n",
    "\n",
    "    Input: A = \"ab\", B = \"ab\"\n",
    "    Output: false\n",
    "\n",
    "Example 3:\n",
    "\n",
    "    Input: A = \"aa\", B = \"aa\"\n",
    "    Output: true\n",
    "\n",
    "Example 4:\n",
    "\n",
    "    Input: A = \"aaaaaaabc\", B = \"aaaaaaacb\"\n",
    "    Output: true\n",
    "\n",
    "Example 5:\n",
    "\n",
    "    Input: A = \"\", B = \"aa\"\n",
    "    Output: false\n",
    "\n",
    "Note:\n",
    "\n",
    "`0 <= A.length <= 20000`\n",
    "\n",
    "`0 <= B.length <= 20000`\n",
    "\n",
    "`A` and `B` consist only of lowercase letters."
   ]
  },
  {
   "cell_type": "code",
   "execution_count": 1,
   "metadata": {},
   "outputs": [],
   "source": [
    "class Solution:\n",
    "    def buddyStrings(self, A: str, B: str) -> bool:\n",
    "        len_a = len(A)\n",
    "        len_b = len(B)\n",
    "        \n",
    "        if len_a != len_b or len_a == 0 or len_b == 0:\n",
    "            return False\n",
    "        \n",
    "        bucket_a = []\n",
    "        bucket_b = []\n",
    "        \n",
    "        for i in range(len_a):\n",
    "            if A[i] != B[i]:\n",
    "                bucket_a.append(A[i])\n",
    "                bucket_b.append(B[i])\n",
    "        \n",
    "        if (len(bucket_a) == 2) and (bucket_a[0] == bucket_b[1]) and (bucket_a[1] == bucket_b[0]):\n",
    "            return True\n",
    "        \n",
    "        if (len_a == 2) and (A[0] == B[1]) and (A[1] == B[0]):\n",
    "            return True\n",
    "        \n",
    "        counter = 0\n",
    "        \n",
    "        if A == B:\n",
    "            for i in range (len_a):\n",
    "                if A[i] in B[i+1:]:\n",
    "                    counter +=1\n",
    "        \n",
    "        if counter >= 2:\n",
    "            return True\n",
    "        \n",
    "        return False"
   ]
  },
  {
   "cell_type": "code",
   "execution_count": 2,
   "metadata": {},
   "outputs": [
    {
     "name": "stderr",
     "output_type": "stream",
     "text": [
      ".\n",
      "----------------------------------------------------------------------\n",
      "Ran 1 test in 0.002s\n",
      "\n",
      "OK\n"
     ]
    }
   ],
   "source": [
    "import unittest\n",
    "\n",
    "class SolutionTests(unittest.TestCase):\n",
    "\n",
    "    def test_checkPossibility(self):\n",
    "        solution = Solution()\n",
    "        self.assertEqual(solution.buddyStrings('abcabc', 'abcabc'), True)\n",
    "        self.assertEqual(solution.buddyStrings('', 'aa'), False)\n",
    "        self.assertEqual(solution.buddyStrings('ab', 'ba'), True)\n",
    "        self.assertEqual(solution.buddyStrings('ab', 'ab'), False)\n",
    "        self.assertEqual(solution.buddyStrings('aa', 'aa'), True)\n",
    "        self.assertEqual(solution.buddyStrings('abcd', 'badc'), False)\n",
    "        self.assertEqual(solution.buddyStrings('abab', 'abab'), True)\n",
    "        self.assertEqual(solution.buddyStrings('aaaaaaabc', 'aaaaaaacb'), True)\n",
    "\n",
    "if __name__ == '__main__':\n",
    "    unittest.main(argv=['first-arg-is-ignored'], exit=False)"
   ]
  }
 ],
 "metadata": {
  "kernelspec": {
   "display_name": "Python 3",
   "language": "python",
   "name": "python3"
  },
  "language_info": {
   "codemirror_mode": {
    "name": "ipython",
    "version": 3
   },
   "file_extension": ".py",
   "mimetype": "text/x-python",
   "name": "python",
   "nbconvert_exporter": "python",
   "pygments_lexer": "ipython3",
   "version": "3.7.6"
  }
 },
 "nbformat": 4,
 "nbformat_minor": 4
}
