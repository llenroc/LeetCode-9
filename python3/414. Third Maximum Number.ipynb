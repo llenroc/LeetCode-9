{
 "cells": [
  {
   "cell_type": "markdown",
   "metadata": {},
   "source": [
    "# 414. Third Maximum Number\n",
    "\n",
    "Given a non-empty array of integers, return the third maximum number in this array. If it does not exist, return the maximum number. The time complexity must be in O(n).\n",
    "\n",
    "Example 1:\n",
    "\n",
    "    Input: [3, 2, 1]\n",
    "    Output: 1\n",
    "    Explanation: The third maximum is 1.\n",
    "\n",
    "Example 2:\n",
    "\n",
    "    Input: [1, 2]\n",
    "    Output: 2\n",
    "    Explanation: The third maximum does not exist, so the maximum (2) is returned instead.\n",
    "\n",
    "Example 3:\n",
    "\n",
    "    Input: [2, 2, 3, 1]\n",
    "    Output: 1\n",
    "    Explanation: Note that the third maximum here means the third maximum distinct number.\n",
    "\n",
    "Both numbers with value 2 are both considered as second maximum."
   ]
  },
  {
   "cell_type": "code",
   "execution_count": 94,
   "metadata": {},
   "outputs": [],
   "source": [
    "from typing import List\n",
    "\n",
    "class Solution:\n",
    "    def thirdMax(self, nums: List[int]) -> int:\n",
    "        maximums = [-float('inf')] * 3\n",
    "        \n",
    "        for num in nums:\n",
    "            if num in maximums:\n",
    "                continue\n",
    "            \n",
    "            if num > maximums[0]:\n",
    "                maximums = [num] + maximums[0:2]\n",
    "            elif (num > maximums[1]) and (num < maximums[0]):\n",
    "                maximums[1:3] = [num, maximums[1]]\n",
    "            elif (num > maximums[2]) and (num < maximums[1]):\n",
    "                maximums[2] = num  \n",
    "        \n",
    "        if maximums[2] == -math.inf:\n",
    "            maximums[2] = maximums[0]\n",
    "        \n",
    "        return maximums[2]"
   ]
  },
  {
   "cell_type": "code",
   "execution_count": 93,
   "metadata": {},
   "outputs": [
    {
     "name": "stderr",
     "output_type": "stream",
     "text": [
      ".\n",
      "----------------------------------------------------------------------\n",
      "Ran 1 test in 0.001s\n",
      "\n",
      "OK\n"
     ]
    }
   ],
   "source": [
    "import unittest\n",
    "\n",
    "class SolutionTests(unittest.TestCase):\n",
    "\n",
    "    def test_checkPossibility(self):\n",
    "        solution = Solution()\n",
    "        self.assertEqual(solution.thirdMax([1,-2147483648,2]), -2147483648)\n",
    "        self.assertEqual(solution.thirdMax([2,2,3,1]), 1)\n",
    "        self.assertEqual(solution.thirdMax([5,2,2]), 5)\n",
    "        self.assertEqual(solution.thirdMax([3,2,1]), 1)\n",
    "        self.assertEqual(solution.thirdMax([1,2]), 2)      \n",
    "        \n",
    "if __name__ == '__main__':\n",
    "    unittest.main(argv=['first-arg-is-ignored'], exit=False)"
   ]
  }
 ],
 "metadata": {
  "kernelspec": {
   "display_name": "Python 3",
   "language": "python",
   "name": "python3"
  },
  "language_info": {
   "codemirror_mode": {
    "name": "ipython",
    "version": 3
   },
   "file_extension": ".py",
   "mimetype": "text/x-python",
   "name": "python",
   "nbconvert_exporter": "python",
   "pygments_lexer": "ipython3",
   "version": "3.7.6"
  }
 },
 "nbformat": 4,
 "nbformat_minor": 4
}
