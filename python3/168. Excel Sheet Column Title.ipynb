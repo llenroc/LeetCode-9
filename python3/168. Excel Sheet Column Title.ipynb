{
 "cells": [
  {
   "cell_type": "markdown",
   "metadata": {},
   "source": [
    "# 168. Excel Sheet Column Title\n",
    "\n",
    "Given a positive integer, return its corresponding column title as appear in an Excel sheet.\n",
    "\n",
    "For example:\n",
    "\n",
    "    1 -> A\n",
    "    2 -> B\n",
    "    3 -> C\n",
    "    ...\n",
    "    26 -> Z\n",
    "    27 -> AA\n",
    "    28 -> AB \n",
    "    ...\n",
    "\n",
    "Example 1:\n",
    "\n",
    "    Input: 1\n",
    "    Output: \"A\"\n",
    "\n",
    "Example 2:\n",
    "\n",
    "    Input: 28\n",
    "    Output: \"AB\"\n",
    "\n",
    "Example 3:\n",
    "\n",
    "    Input: 701\n",
    "    Output: \"ZY\"\n"
   ]
  },
  {
   "cell_type": "code",
   "execution_count": 14,
   "metadata": {},
   "outputs": [],
   "source": [
    "import string\n",
    "\n",
    "class Solution:\n",
    "    def convertToTitle(self, n: int) -> str:\n",
    "        result = ''\n",
    "        \n",
    "        LOOKUP = 'Z' + string.ascii_uppercase\n",
    "        \n",
    "        while True:\n",
    "            times = n // 26\n",
    "            position = n % 26\n",
    "            \n",
    "            result = LOOKUP[position] + result \n",
    "                            \n",
    "            n = (n - position) // 26\n",
    "            \n",
    "            if position == 0:\n",
    "                n -= 1\n",
    "            \n",
    "            if n == 0:\n",
    "                break\n",
    "        \n",
    "        return result"
   ]
  },
  {
   "cell_type": "code",
   "execution_count": 15,
   "metadata": {},
   "outputs": [
    {
     "name": "stderr",
     "output_type": "stream",
     "text": [
      ".\n",
      "----------------------------------------------------------------------\n",
      "Ran 1 test in 0.001s\n",
      "\n",
      "OK\n"
     ]
    }
   ],
   "source": [
    "import unittest\n",
    "\n",
    "class SolutionTests(unittest.TestCase):\n",
    "\n",
    "    def test_checkPossibility(self):\n",
    "        solution = Solution()\n",
    "        self.assertEqual(solution.convertToTitle(1), 'A')\n",
    "        self.assertEqual(solution.convertToTitle(28), 'AB')\n",
    "        self.assertEqual(solution.convertToTitle(52), 'AZ')\n",
    "        self.assertEqual(solution.convertToTitle(701), 'ZY')\n",
    "        \n",
    "\n",
    "if __name__ == '__main__':\n",
    "    unittest.main(argv=['first-arg-is-ignored'], exit=False)"
   ]
  },
  {
   "cell_type": "code",
   "execution_count": 3,
   "metadata": {},
   "outputs": [
    {
     "data": {
      "text/plain": [
       "26"
      ]
     },
     "execution_count": 3,
     "metadata": {},
     "output_type": "execute_result"
    }
   ],
   "source": [
    "len(string.ascii_uppercase)"
   ]
  },
  {
   "cell_type": "code",
   "execution_count": 30,
   "metadata": {},
   "outputs": [
    {
     "data": {
      "text/plain": [
       "0"
      ]
     },
     "execution_count": 30,
     "metadata": {},
     "output_type": "execute_result"
    }
   ],
   "source": [
    "52 % 26"
   ]
  }
 ],
 "metadata": {
  "kernelspec": {
   "display_name": "Python 3",
   "language": "python",
   "name": "python3"
  },
  "language_info": {
   "codemirror_mode": {
    "name": "ipython",
    "version": 3
   },
   "file_extension": ".py",
   "mimetype": "text/x-python",
   "name": "python",
   "nbconvert_exporter": "python",
   "pygments_lexer": "ipython3",
   "version": "3.7.6"
  }
 },
 "nbformat": 4,
 "nbformat_minor": 4
}
